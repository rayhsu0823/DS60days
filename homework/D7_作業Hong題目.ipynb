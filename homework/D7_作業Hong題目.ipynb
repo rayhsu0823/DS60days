{
 "cells": [
  {
   "cell_type": "code",
   "execution_count": null,
   "metadata": {
    "id": "g7_Zhb9Bif-K"
   },
   "outputs": [],
   "source": []
  },
  {
   "cell_type": "markdown",
   "metadata": {
    "id": "GLhLqOtlj1fc"
   },
   "source": [
    "作業目標<br>\n",
    "活用矩陣運算，實做線性代數<br>\n",
    "作業重點<br>\n",
    "線性代數公式應用<br>\n",
    "矩陣相乘維度需要對好，例如:2X3矩陣乘上3X5矩陣得到2X5矩陣"
   ]
  },
  {
   "cell_type": "markdown",
   "metadata": {
    "id": "Rq6NRNxLj4w1"
   },
   "source": [
    "題目:<br>\n",
    "array1 = np.array([[10, 8], [3, 5]]) <br>\n",
    "1. 運用上列array計算反矩陣，乘上原矩陣，並觀察是否為單位矩陣?\n",
    "2. 運用上列array計算特徵值、特徵向量?\n",
    "3. 運用上列array計算SVD?"
   ]
  },
  {
   "cell_type": "code",
   "execution_count": 93,
   "metadata": {
    "id": "YakNatIPj3CW"
   },
   "outputs": [],
   "source": [
    "import numpy as np"
   ]
  },
  {
   "cell_type": "code",
   "execution_count": 109,
   "metadata": {
    "id": "QT4ntMV1kR1c"
   },
   "outputs": [
    {
     "data": {
      "text/plain": [
       "array([[1., 0.],\n",
       "       [0., 1.]])"
      ]
     },
     "execution_count": 109,
     "metadata": {},
     "output_type": "execute_result"
    }
   ],
   "source": [
    "#1. 運用上列array計算反矩陣，乘上原矩陣，並觀察是否為單位矩陣? 對\n",
    "array1 = np.array([[10, 8], [3, 5]])\n",
    "array2 = np.linalg.inv(array1)\n",
    "np.dot(array1,array2)"
   ]
  },
  {
   "cell_type": "code",
   "execution_count": 108,
   "metadata": {
    "id": "9f7cVxwwk-y9"
   },
   "outputs": [
    {
     "ename": "SyntaxError",
     "evalue": "invalid syntax (<ipython-input-108-50362212f3c1>, line 2)",
     "output_type": "error",
     "traceback": [
      "\u001b[1;36m  File \u001b[1;32m\"<ipython-input-108-50362212f3c1>\"\u001b[1;36m, line \u001b[1;32m2\u001b[0m\n\u001b[1;33m    特徵值:\u001b[0m\n\u001b[1;37m        ^\u001b[0m\n\u001b[1;31mSyntaxError\u001b[0m\u001b[1;31m:\u001b[0m invalid syntax\n"
     ]
    }
   ],
   "source": [
    "#2. 運用上列array計算\n",
    "特徵值:\n",
    "array([13.,  2.]) \n",
    "\n",
    "特徵向量: array([[ 0.93632918, -0.70710678],\n",
    "       [ 0.35112344,  0.70710678]])\n",
    "\n",
    "w, v = np.linalg.eig(array1)\n",
    "w\n",
    "v"
   ]
  },
  {
   "cell_type": "code",
   "execution_count": null,
   "metadata": {
    "id": "OHSs5etxnL8D"
   },
   "outputs": [],
   "source": [
    "#3. 運用上列array計算SVD?"
   ]
  },
  {
   "cell_type": "code",
   "execution_count": 110,
   "metadata": {
    "id": "5BaVZFRvpXZo"
   },
   "outputs": [
    {
     "data": {
      "text/plain": [
       "(array([[-0.91663818, -0.39971796],\n",
       "        [-0.39971796,  0.91663818]]),\n",
       " array([13.94721714,  1.86417116]),\n",
       " array([[-0.74319741, -0.6690722 ],\n",
       "        [-0.6690722 ,  0.74319741]]))"
      ]
     },
     "execution_count": 110,
     "metadata": {},
     "output_type": "execute_result"
    }
   ],
   "source": [
    "np.linalg.svd(array1)"
   ]
  },
  {
   "cell_type": "code",
   "execution_count": null,
   "metadata": {},
   "outputs": [],
   "source": []
  }
 ],
 "metadata": {
  "colab": {
   "collapsed_sections": [],
   "name": "作業Hong題目.ipynb",
   "provenance": []
  },
  "kernelspec": {
   "display_name": "Python 3",
   "language": "python",
   "name": "python3"
  },
  "language_info": {
   "codemirror_mode": {
    "name": "ipython",
    "version": 3
   },
   "file_extension": ".py",
   "mimetype": "text/x-python",
   "name": "python",
   "nbconvert_exporter": "python",
   "pygments_lexer": "ipython3",
   "version": "3.8.5"
  }
 },
 "nbformat": 4,
 "nbformat_minor": 1
}
